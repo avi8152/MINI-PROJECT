{
  "nbformat": 4,
  "nbformat_minor": 0,
  "metadata": {
    "colab": {
      "name": "image_classification.ipynb",
      "provenance": [],
      "collapsed_sections": [],
      "authorship_tag": "ABX9TyOOu5+18iYJcrXaaFYx7qQD",
      "include_colab_link": true
    },
    "kernelspec": {
      "name": "python3",
      "display_name": "Python 3"
    }
  },
  "cells": [
    {
      "cell_type": "markdown",
      "metadata": {
        "id": "view-in-github",
        "colab_type": "text"
      },
      "source": [
        "<a href=\"https://colab.research.google.com/github/avi8152/MINI-PROJECT/blob/main/image_classification.ipynb\" target=\"_parent\"><img src=\"https://colab.research.google.com/assets/colab-badge.svg\" alt=\"Open In Colab\"/></a>"
      ]
    },
    {
      "cell_type": "code",
      "metadata": {
        "id": "ShiDoAm2wBH_",
        "outputId": "94bb8418-0303-4252-a76d-8c6f65bcf5ba",
        "colab": {
          "base_uri": "https://localhost:8080/",
          "height": 336
        }
      },
      "source": [
        "!pip install ipython-autotime\n",
        "%load_ext autotime"
      ],
      "execution_count": null,
      "outputs": [
        {
          "output_type": "stream",
          "text": [
            "Collecting ipython-autotime\n",
            "  Downloading https://files.pythonhosted.org/packages/3f/58/a4a65efcce5c81a67b6893ade862736de355a3a718af5533d30c991831ce/ipython_autotime-0.2.0-py2.py3-none-any.whl\n",
            "Requirement already satisfied: ipython in /usr/local/lib/python3.6/dist-packages (from ipython-autotime) (5.5.0)\n",
            "Requirement already satisfied: traitlets>=4.2 in /usr/local/lib/python3.6/dist-packages (from ipython->ipython-autotime) (4.3.3)\n",
            "Requirement already satisfied: prompt-toolkit<2.0.0,>=1.0.4 in /usr/local/lib/python3.6/dist-packages (from ipython->ipython-autotime) (1.0.18)\n",
            "Requirement already satisfied: decorator in /usr/local/lib/python3.6/dist-packages (from ipython->ipython-autotime) (4.4.2)\n",
            "Requirement already satisfied: setuptools>=18.5 in /usr/local/lib/python3.6/dist-packages (from ipython->ipython-autotime) (50.3.0)\n",
            "Requirement already satisfied: pygments in /usr/local/lib/python3.6/dist-packages (from ipython->ipython-autotime) (2.6.1)\n",
            "Requirement already satisfied: pexpect; sys_platform != \"win32\" in /usr/local/lib/python3.6/dist-packages (from ipython->ipython-autotime) (4.8.0)\n",
            "Requirement already satisfied: simplegeneric>0.8 in /usr/local/lib/python3.6/dist-packages (from ipython->ipython-autotime) (0.8.1)\n",
            "Requirement already satisfied: pickleshare in /usr/local/lib/python3.6/dist-packages (from ipython->ipython-autotime) (0.7.5)\n",
            "Requirement already satisfied: ipython-genutils in /usr/local/lib/python3.6/dist-packages (from traitlets>=4.2->ipython->ipython-autotime) (0.2.0)\n",
            "Requirement already satisfied: six in /usr/local/lib/python3.6/dist-packages (from traitlets>=4.2->ipython->ipython-autotime) (1.15.0)\n",
            "Requirement already satisfied: wcwidth in /usr/local/lib/python3.6/dist-packages (from prompt-toolkit<2.0.0,>=1.0.4->ipython->ipython-autotime) (0.2.5)\n",
            "Requirement already satisfied: ptyprocess>=0.5 in /usr/local/lib/python3.6/dist-packages (from pexpect; sys_platform != \"win32\"->ipython->ipython-autotime) (0.6.0)\n",
            "Installing collected packages: ipython-autotime\n",
            "Successfully installed ipython-autotime-0.2.0\n",
            "time: 3.13 ms\n"
          ],
          "name": "stdout"
        }
      ]
    },
    {
      "cell_type": "code",
      "metadata": {
        "id": "Y-lWkiJqpmm5",
        "outputId": "4abb2822-f602-42b2-b2fd-a16d14ad2f25",
        "colab": {
          "base_uri": "https://localhost:8080/",
          "height": 105
        }
      },
      "source": [
        "!pip install bing-image-downloader"
      ],
      "execution_count": null,
      "outputs": [
        {
          "output_type": "stream",
          "text": [
            "Collecting bing-image-downloader\n",
            "  Downloading https://files.pythonhosted.org/packages/0d/bf/537a61030b84ae4cd5022d5c7b014fd9bc3ce7c02358919153a6658a61d3/bing_image_downloader-1.0.4-py3-none-any.whl\n",
            "Installing collected packages: bing-image-downloader\n",
            "Successfully installed bing-image-downloader-1.0.4\n",
            "time: 2.63 s\n"
          ],
          "name": "stdout"
        }
      ]
    },
    {
      "cell_type": "code",
      "metadata": {
        "id": "iOoFQs8_pN-p",
        "outputId": "51601de7-ffbf-4f21-e8f4-813e492eda23",
        "colab": {
          "base_uri": "https://localhost:8080/",
          "height": 34
        }
      },
      "source": [
        "import bing_image_downloader"
      ],
      "execution_count": null,
      "outputs": [
        {
          "output_type": "stream",
          "text": [
            "time: 7.63 ms\n"
          ],
          "name": "stdout"
        }
      ]
    },
    {
      "cell_type": "code",
      "metadata": {
        "id": "_dLW173lpfsx",
        "outputId": "0f17eadd-087c-48af-8c79-9132da0f57a8",
        "colab": {
          "base_uri": "https://localhost:8080/",
          "height": 34
        }
      },
      "source": [
        "!mkdir images"
      ],
      "execution_count": null,
      "outputs": [
        {
          "output_type": "stream",
          "text": [
            "time: 111 ms\n"
          ],
          "name": "stdout"
        }
      ]
    },
    {
      "cell_type": "code",
      "metadata": {
        "id": "RGv1B6Wsp9bw",
        "outputId": "9dad4f05-1d59-4684-c78d-f78c2e9c912d",
        "colab": {
          "base_uri": "https://localhost:8080/",
          "height": 1000
        }
      },
      "source": [
        "from bing_image_downloader import downloader\n",
        "downloader.download('Ferrari 250 GTO', limit=25,  output_dir='images', adult_filter_off=True, force_replace=False, timeout=60)"
      ],
      "execution_count": null,
      "outputs": [
        {
          "output_type": "stream",
          "text": [
            "\n",
            "\n",
            "[!!]Indexing page: 1\n",
            "\n",
            "[%] Indexed 25 Images on Page 1.\n",
            "\n",
            "===============================================\n",
            "\n",
            "[%] Downloading Image #1 from https://www.motoringresearch.com/wp-content/uploads/2018/06/1962-Ferrari-250-GTO.jpg\n",
            "[%] File Downloaded !\n",
            "\n",
            "[%] Downloading Image #2 from https://silodrome.com/wp-content/uploads/2018/06/Ferrari-250-GTO-Side.jpg\n",
            "[%] File Downloaded !\n",
            "\n",
            "[%] Downloading Image #3 from https://assets.hemmings.com/blog/wp-content/uploads/2018/06/1962-Ferrari-250-GTO-by-Scaglietti_32.jpg\n",
            "[%] File Downloaded !\n",
            "\n",
            "[%] Downloading Image #4 from https://assets.hemmings.com/blog/wp-content/uploads/2018/06/1962-Ferrari-250-GTO-by-Scaglietti_33.jpg\n",
            "[%] File Downloaded !\n",
            "\n",
            "[%] Downloading Image #5 from https://st.automobilemag.com/uploads/sites/11/2017/05/1963-Ferrari-250-GTO-rear-three-quarter.jpg\n",
            "[%] File Downloaded !\n",
            "\n",
            "[%] Downloading Image #6 from https://uncrate.com/p/2018/06/ferrari-250-gto-1.jpg\n",
            "[%] File Downloaded !\n",
            "\n",
            "[%] Downloading Image #7 from https://wallpapercave.com/wp/wp3109486.jpg\n",
            "[%] File Downloaded !\n",
            "\n",
            "[%] Downloading Image #8 from http://st.automobilemag.com/uploads/sites/11/2016/11/1962-Ferrari-250-GTO-Talacrest-side.jpg\n",
            "[%] File Downloaded !\n",
            "\n",
            "[%] Downloading Image #9 from https://www.motoringresearch.com/wp-content/uploads/2018/06/Ferrari-250-GTO-most-expensive-car.jpg\n",
            "[%] File Downloaded !\n",
            "\n",
            "[%] Downloading Image #10 from http://gtspirit.com/wp-content/uploads/2018/10/Coachbuilt-Ferrari-250-GTO-5.jpg\n",
            "[Error]Invalid image, not saving http://gtspirit.com/wp-content/uploads/2018/10/Coachbuilt-Ferrari-250-GTO-5.jpg\n",
            "\n",
            "[!] Issue getting: http://gtspirit.com/wp-content/uploads/2018/10/Coachbuilt-Ferrari-250-GTO-5.jpg\n",
            "[!] Error:: No active exception to reraise\n",
            "[%] Downloading Image #10 from https://blogs-images.forbes.com/msolomon/files/2018/07/Ferrari-GTO-1962-1200x675-1200x675.jpg\n",
            "[%] File Downloaded !\n",
            "\n",
            "[%] Downloading Image #11 from https://vignette.wikia.nocookie.net/forzamotorsport/images/2/25/FH4_Ferrari_250_GTO_Front.jpg/revision/latest?cb=20190406125934\n",
            "[%] File Downloaded !\n",
            "\n",
            "[%] Downloading Image #12 from https://silodrome.com/wp-content/uploads/2018/06/Ferrari-250-GTO-5.jpg\n",
            "[%] File Downloaded !\n",
            "\n",
            "[%] Downloading Image #13 from https://st.motortrend.ca/uploads/sites/11/2018/08/1962-ferrari-250-gto-rear-three-quarter.jpg\n",
            "[%] File Downloaded !\n",
            "\n",
            "[%] Downloading Image #14 from http://console.assettocorsa.net/wp-content/uploads/250_GTO_Wallpaper5.jpg\n",
            "[%] File Downloaded !\n",
            "\n",
            "[%] Downloading Image #15 from https://upload.wikimedia.org/wikipedia/commons/thumb/1/1a/1962_Ferrari_250_GTO_34_2.jpg/1200px-1962_Ferrari_250_GTO_34_2.jpg\n",
            "[Error]Invalid image, not saving https://upload.wikimedia.org/wikipedia/commons/thumb/1/1a/1962_Ferrari_250_GTO_34_2.jpg/1200px-1962_Ferrari_250_GTO_34_2.jpg\n",
            "\n",
            "[!] Issue getting: https://upload.wikimedia.org/wikipedia/commons/thumb/1/1a/1962_Ferrari_250_GTO_34_2.jpg/1200px-1962_Ferrari_250_GTO_34_2.jpg\n",
            "[!] Error:: No active exception to reraise\n",
            "[%] Downloading Image #15 from https://silodrome.com/wp-content/uploads/2018/06/Ferrari-250-GTO-3.jpg\n",
            "[%] File Downloaded !\n",
            "\n",
            "[%] Downloading Image #16 from http://www.supercars.net/blog/wp-content/uploads/2016/07/1963-ferrari-250-gto-berlinetta.jpg\n",
            "[%] File Downloaded !\n",
            "\n",
            "[%] Downloading Image #17 from https://pictures.topspeed.com/IMG/jpg/201808/1962-ferrari-250-gto-102.jpg\n",
            "[%] File Downloaded !\n",
            "\n",
            "[%] Downloading Image #18 from https://ag-spots-2019.o.auroraobjects.eu/2019/01/01/other/2880-1800-crop-ferrari-250-gto-c342201012019000215_1.jpg\n",
            "[%] File Downloaded !\n",
            "\n",
            "[%] Downloading Image #19 from http://st.motortrend.com/uploads/sites/5/2014/08/1962-Ferrari-250-GTO-Berlinetta-rear-three-quarter.jpg\n",
            "[%] File Downloaded !\n",
            "\n",
            "[%] Downloading Image #20 from https://ei.marketwatch.com/Multimedia/2018/06/07/Photos/ZH/MW-GK528_ferrar_20180607172205_ZH.jpg?uuid=d3831696-6a98-11e8-813b-ac162d7bc1f7\n",
            "[%] File Downloaded !\n",
            "\n",
            "[%] Downloading Image #21 from https://revsinstitute.org/wp-content/uploads/2016/12/11-Ferrari-250-GTO.jpg\n",
            "[%] File Downloaded !\n",
            "\n",
            "[%] Downloading Image #22 from https://s1.cdn.autoevolution.com/images/gallery/FERRARI-250-GTO-5526_20.jpeg\n",
            "[%] File Downloaded !\n",
            "\n",
            "[%] Downloading Image #23 from https://www.racedepartment.com/attachments/ferrari-250-gto-png.178765/\n",
            "[%] File Downloaded !\n",
            "\n",
            "\n",
            "\n",
            "[!!]Indexing page: 2\n",
            "\n",
            "[%] Indexed 35 Images on Page 2.\n",
            "\n",
            "===============================================\n",
            "\n",
            "[%] Downloading Image #24 from https://www.motoringresearch.com/wp-content/uploads/2018/06/1962-Ferrari-250-GTO.jpg\n",
            "[%] File Downloaded !\n",
            "\n",
            "[%] Downloading Image #25 from https://silodrome.com/wp-content/uploads/2018/06/Ferrari-250-GTO-Side.jpg\n",
            "[%] File Downloaded !\n",
            "\n",
            "\n",
            "\n",
            "[%] Done. Downloaded 25 images.\n",
            "\n",
            "===============================================\n",
            "\n",
            "time: 13.1 s\n"
          ],
          "name": "stdout"
        }
      ]
    },
    {
      "cell_type": "code",
      "metadata": {
        "id": "7hzX7BJdyfpA",
        "outputId": "7f060636-432a-45e2-ff45-c7cdc7596fc9",
        "colab": {
          "base_uri": "https://localhost:8080/",
          "height": 1000
        }
      },
      "source": [
        "from bing_image_downloader import downloader\n",
        "downloader.download('dragon fruit', limit=25,  output_dir='images', adult_filter_off=True, force_replace=False, timeout=60)"
      ],
      "execution_count": null,
      "outputs": [
        {
          "output_type": "stream",
          "text": [
            "\n",
            "\n",
            "[!!]Indexing page: 1\n",
            "\n",
            "[%] Indexed 25 Images on Page 1.\n",
            "\n",
            "===============================================\n",
            "\n",
            "[%] Downloading Image #1 from https://foodrevolution.org/wp-content/uploads/2019/05/iStock-503045095-1.jpg\n",
            "[%] File Downloaded !\n",
            "\n",
            "[%] Downloading Image #2 from https://theextremehorticulturist.files.wordpress.com/2015/06/dragon-fruit-many.jpg\n",
            "[%] File Downloaded !\n",
            "\n",
            "[%] Downloading Image #3 from https://cdn2.stylecraze.com/wp-content/uploads/2015/03/182-amazing-benefits-of-dragon-fruit-501881036.jpg\n",
            "[%] File Downloaded !\n",
            "\n",
            "[%] Downloading Image #4 from https://static.parade.com/wp-content/uploads/2013/08/dragon-fruit-ftr.jpg\n",
            "[!] Issue getting: https://static.parade.com/wp-content/uploads/2013/08/dragon-fruit-ftr.jpg\n",
            "[!] Error:: HTTP Error 403: Forbidden\n",
            "[%] Downloading Image #4 from http://www.top10homeremedies.com/wp-content/uploads/2015/09/Benefits-of-Dragon-Fruit-MAIN.jpg\n",
            "[%] File Downloaded !\n",
            "\n",
            "[%] Downloading Image #5 from https://static.onecms.io/wp-content/uploads/sites/35/2019/04/03205601/fb-health-benefits-dragon-fruit.jpg\n",
            "[%] File Downloaded !\n",
            "\n",
            "[%] Downloading Image #6 from https://i0.wp.com/images-prod.healthline.com/hlcmsresource/images/AN_images/dragon-fruit-1296x728-feature.jpg?w=1155&amp;h=1528\n",
            "[%] File Downloaded !\n",
            "\n",
            "[%] Downloading Image #7 from http://www.speedyremedies.com/wp-content/uploads/2013/05/dgf.jpg\n",
            "[%] File Downloaded !\n",
            "\n",
            "[%] Downloading Image #8 from https://qflf.files.wordpress.com/2011/03/dragon-fruit.jpg\n",
            "[%] File Downloaded !\n",
            "\n",
            "[%] Downloading Image #9 from http://www.asiaone.com/sites/default/files/original_images/Feb2016/DragonFruit.jpg\n",
            "[%] File Downloaded !\n",
            "\n",
            "[%] Downloading Image #10 from https://images.medicaldaily.com/sites/medicaldaily.com/files/2015/07/02/dragon-fruit-shelf.jpg\n",
            "[%] File Downloaded !\n",
            "\n",
            "[%] Downloading Image #11 from http://vkool.com/wp-content/uploads/2016/03/benefits-of-dragon-fruit.jpg\n",
            "[%] File Downloaded !\n",
            "\n",
            "[%] Downloading Image #12 from https://www.healthline.com/hlcmsresource/images/AN_images/dragon-fruit-benefits-1296x728-feature.jpg\n",
            "[%] File Downloaded !\n",
            "\n",
            "[%] Downloading Image #13 from https://eatingrichly.com/wp-content/uploads/2018/03/169463086_03db697327_o-800x1067.jpg\n",
            "[%] File Downloaded !\n",
            "\n",
            "[%] Downloading Image #14 from https://bloximages.newyork1.vip.townnews.com/chronicleonline.com/content/tncms/assets/v3/editorial/8/2e/82e91134-cc1b-11e7-bfb7-2f8e131ce5ac/5a0fbb6b50237.image.jpg?resize=1200%2C900\n",
            "[%] File Downloaded !\n",
            "\n",
            "[%] Downloading Image #15 from https://upload.wikimedia.org/wikipedia/commons/thumb/9/9f/Dragonfruit_Chiayi_market.jpg/1200px-Dragonfruit_Chiayi_market.jpg\n",
            "[%] File Downloaded !\n",
            "\n",
            "[%] Downloading Image #16 from https://www.thestar.com/content/dam/thestar/life/food_wine/2013/02/22/dragon_fruit_is_wonderfully_refreshing_with_a_delicate_flavour_fresh_bites/dragon_fruit.jpg\n",
            "[%] File Downloaded !\n",
            "\n",
            "[%] Downloading Image #17 from https://s-media-cache-ak0.pinimg.com/originals/1b/c6/11/1bc611bcfb81b91784c250961437848b.jpg\n",
            "[%] File Downloaded !\n",
            "\n",
            "[%] Downloading Image #18 from http://healthfuldietandnutrition.com/wp-content/uploads/2013/05/Health-Benefits-of-Dragon-Fruit..jpeg\n",
            "[%] File Downloaded !\n",
            "\n",
            "[%] Downloading Image #19 from https://eatingrichly.com/wp-content/uploads/2018/03/dragon-fruit-Twitter.jpg\n",
            "[%] File Downloaded !\n",
            "\n",
            "[%] Downloading Image #20 from https://az836796.vo.msecnd.net/media/image/product/en/large/0000000003040.jpg\n",
            "[%] File Downloaded !\n",
            "\n",
            "[%] Downloading Image #21 from http://4.bp.blogspot.com/-jZB9heGJ58U/UIceYs7j22I/AAAAAAAAKL0/sxy4GDHRE5w/s1600/IMG_0249.JPG\n",
            "[%] File Downloaded !\n",
            "\n",
            "[%] Downloading Image #22 from https://www.diye-liquidsupplies.com/wp-content/uploads/2018/09/Dragonfruit.jpg\n",
            "[%] File Downloaded !\n",
            "\n",
            "[%] Downloading Image #23 from http://healthbenefitstimes.com/9/uploads/2012/12/Red-Dragon-Fruit-with-White-Interior.jpg\n",
            "[%] File Downloaded !\n",
            "\n",
            "[%] Downloading Image #24 from http://floraremedia.com/wp-content/uploads/2016/08/story-of-vietnam-dragon-fruit-1361.jpg\n",
            "[!] Issue getting: http://floraremedia.com/wp-content/uploads/2016/08/story-of-vietnam-dragon-fruit-1361.jpg\n",
            "[!] Error:: HTTP Error 404: Not Found\n",
            "\n",
            "\n",
            "[!!]Indexing page: 2\n",
            "\n",
            "[%] Indexed 35 Images on Page 2.\n",
            "\n",
            "===============================================\n",
            "\n",
            "[%] Downloading Image #24 from https://foodrevolution.org/wp-content/uploads/2019/05/iStock-503045095-1.jpg\n",
            "[%] File Downloaded !\n",
            "\n",
            "[%] Downloading Image #25 from https://theextremehorticulturist.files.wordpress.com/2015/06/dragon-fruit-many.jpg\n",
            "[%] File Downloaded !\n",
            "\n",
            "\n",
            "\n",
            "[%] Done. Downloaded 25 images.\n",
            "\n",
            "===============================================\n",
            "\n",
            "time: 10.2 s\n"
          ],
          "name": "stdout"
        }
      ]
    },
    {
      "cell_type": "code",
      "metadata": {
        "id": "9guTIGhGzvaR",
        "outputId": "ecb20c22-9ef0-4d4c-945b-9046132e0f7c",
        "colab": {
          "base_uri": "https://localhost:8080/",
          "height": 1000
        }
      },
      "source": [
        "from bing_image_downloader import downloader\n",
        "downloader.download('cricket bat', limit=25,  output_dir='images', adult_filter_off=True, force_replace=False, timeout=60)"
      ],
      "execution_count": null,
      "outputs": [
        {
          "output_type": "stream",
          "text": [
            "\n",
            "\n",
            "[!!]Indexing page: 1\n",
            "\n",
            "[%] Indexed 25 Images on Page 1.\n",
            "\n",
            "===============================================\n",
            "\n",
            "[%] Downloading Image #1 from https://cdn.shopify.com/s/files/1/0012/8797/9121/products/CAMA15TrainingBat_20Technique_20Bat_1500x.jpg?v=1534336622\n",
            "[%] File Downloaded !\n",
            "\n",
            "[%] Downloading Image #2 from https://blog.playo.co/wp-content/uploads/2017/08/Adidas-Incurza.jpg\n",
            "[%] File Downloaded !\n",
            "\n",
            "[%] Downloading Image #3 from https://www.cricketequipmentusa.com/content/images/thumbs/0003909_cricket-bat-english-willow-neon-dxm-404-ttnow-short-handle-by-gunn-moore.jpeg\n",
            "[%] File Downloaded !\n",
            "\n",
            "[%] Downloading Image #4 from https://www.prodirectcricket.com/ProductImages/Main/193889_Main_Thumb_0381209.jpg\n",
            "[!] Issue getting: https://www.prodirectcricket.com/ProductImages/Main/193889_Main_Thumb_0381209.jpg\n",
            "[!] Error:: HTTP Error 403: Forbidden\n",
            "[%] Downloading Image #4 from https://n4.sdlcdn.com/imgs/f/k/e/Nike-Poplar-Willow-Cricket-Bat-SDL552812155-1-6cbe8.jpg\n",
            "[%] File Downloaded !\n",
            "\n",
            "[%] Downloading Image #5 from https://n3.sdlcdn.com/imgs/g/t/b/spartan_blue_popular_willow_cricket_SDL568742857_1_ccf26-4b5eb.jpeg\n",
            "[%] File Downloaded !\n",
            "\n",
            "[%] Downloading Image #6 from http://khelmart.com/Cricket/zoomer_Image/KK_EW_000017_large.jpg\n",
            "[%] File Downloaded !\n",
            "\n",
            "[%] Downloading Image #7 from https://n2.sdlcdn.com/imgs/b/l/9/Sunley-Pro-Cricket-Bat-SDL106409902-1-2c358.jpg\n",
            "[%] File Downloaded !\n",
            "\n",
            "[%] Downloading Image #8 from http://www.allwhitebackground.com/images/1/Cricket-Bat-1.jpg\n",
            "[%] File Downloaded !\n",
            "\n",
            "[%] Downloading Image #9 from https://www.prodirectcricket.com/ProductImages/Main/214464_Main_Thumb_0595855.jpg\n",
            "[!] Issue getting: https://www.prodirectcricket.com/ProductImages/Main/214464_Main_Thumb_0595855.jpg\n",
            "[!] Error:: HTTP Error 403: Forbidden\n",
            "[%] Downloading Image #9 from https://ethlits.com/media/catalog/product/cache/1/thumbnail/4f9502202b77059316180a23e4857517/s/g/sg_tripple_crown_xtreme_english_willow_cricket_bat_size_sh_ethlits.com_1_.jpg\n",
            "[%] File Downloaded !\n",
            "\n",
            "[%] Downloading Image #10 from https://www.prodirectcricket.com/ProductImages/Main/Main_Thumb_0366776.jpg\n",
            "[!] Issue getting: https://www.prodirectcricket.com/ProductImages/Main/Main_Thumb_0366776.jpg\n",
            "[!] Error:: HTTP Error 403: Forbidden\n",
            "[%] Downloading Image #10 from http://proimpactsports.com/wp-content/uploads/2018/06/cricket-bat-1-1.jpg\n",
            "[Error]Invalid image, not saving http://proimpactsports.com/wp-content/uploads/2018/06/cricket-bat-1-1.jpg\n",
            "\n",
            "[!] Issue getting: http://proimpactsports.com/wp-content/uploads/2018/06/cricket-bat-1-1.jpg\n",
            "[!] Error:: No active exception to reraise\n",
            "[%] Downloading Image #10 from https://www.prodirectcricket.com/productimages/Main/190583_Main_Thumb_0363367.jpg\n",
            "[!] Issue getting: https://www.prodirectcricket.com/productimages/Main/190583_Main_Thumb_0363367.jpg\n",
            "[!] Error:: HTTP Error 403: Forbidden\n",
            "[%] Downloading Image #10 from http://www.prodirectcricket.com/productimages/Main/140522.jpg\n",
            "[!] Issue getting: http://www.prodirectcricket.com/productimages/Main/140522.jpg\n",
            "[!] Error:: HTTP Error 403: Forbidden\n",
            "[%] Downloading Image #10 from https://www.prodirectcricket.com/ProductImages/Main/190315_Main_Thumb_0367055.jpg\n",
            "[!] Issue getting: https://www.prodirectcricket.com/ProductImages/Main/190315_Main_Thumb_0367055.jpg\n",
            "[!] Error:: HTTP Error 403: Forbidden\n",
            "[%] Downloading Image #10 from https://edsports.ie/wp-content/uploads/2015/01/kookaburra-surge-800-cricket-bat-1.jpg\n",
            "[%] File Downloaded !\n",
            "\n",
            "[%] Downloading Image #11 from https://bucket.pk/wp-content/uploads/2019/02/HS-41-Cricket-Bat-a.jpg\n",
            "[%] File Downloaded !\n",
            "\n",
            "[%] Downloading Image #12 from https://dolcelou.com/wp-content/uploads/2018/01/Cricket-Bat.jpeg\n",
            "[%] File Downloaded !\n",
            "\n",
            "[%] Downloading Image #13 from https://www.prodirectcricket.com/ProductImages/Main/197109_Main_Thumb_0420988.jpg\n",
            "[!] Issue getting: https://www.prodirectcricket.com/ProductImages/Main/197109_Main_Thumb_0420988.jpg\n",
            "[!] Error:: HTTP Error 403: Forbidden\n",
            "[%] Downloading Image #13 from https://cricketstuff.co.za/images/stories/virtuemart/product/CSKBBAT46.png\n",
            "[%] File Downloaded !\n",
            "\n",
            "[%] Downloading Image #14 from https://cdn11.bigcommerce.com/s-4aoucgs/images/stencil/2048x2048/products/142/703/02__81725.1567412422.png?c=2\n",
            "[%] File Downloaded !\n",
            "\n",
            "[%] Downloading Image #15 from https://www.prodirectcricket.com/ProductImages/Main/205468_Main_Thumb_0461685.jpg\n",
            "[!] Issue getting: https://www.prodirectcricket.com/ProductImages/Main/205468_Main_Thumb_0461685.jpg\n",
            "[!] Error:: HTTP Error 403: Forbidden\n",
            "[%] Downloading Image #15 from https://www.chilternsports.co.uk/wp-content/uploads/2016/02/6b008-cricket-bat-kahuna-600.jpg\n",
            "[%] File Downloaded !\n",
            "\n",
            "[%] Downloading Image #16 from https://www.meulemans.com.au/wp-content/uploads/2017/07/GM-Neon-404-Bat-face.jpg\n",
            "[%] File Downloaded !\n",
            "\n",
            "\n",
            "\n",
            "[!!]Indexing page: 2\n",
            "\n",
            "[%] Indexed 35 Images on Page 2.\n",
            "\n",
            "===============================================\n",
            "\n",
            "[%] Downloading Image #17 from https://blog.playo.co/wp-content/uploads/2017/08/Adidas-Incurza.jpg\n",
            "[%] File Downloaded !\n",
            "\n",
            "[%] Downloading Image #18 from https://www.prodirectcricket.com/ProductImages/Main/193889_Main_Thumb_0381209.jpg\n",
            "[!] Issue getting: https://www.prodirectcricket.com/ProductImages/Main/193889_Main_Thumb_0381209.jpg\n",
            "[!] Error:: HTTP Error 403: Forbidden\n",
            "[%] Downloading Image #18 from https://n3.sdlcdn.com/imgs/g/t/b/spartan_blue_popular_willow_cricket_SDL568742857_1_ccf26-4b5eb.jpeg\n",
            "[%] File Downloaded !\n",
            "\n",
            "[%] Downloading Image #19 from https://n4.sdlcdn.com/imgs/f/k/e/Nike-Poplar-Willow-Cricket-Bat-SDL552812155-1-6cbe8.jpg\n",
            "[%] File Downloaded !\n",
            "\n",
            "[%] Downloading Image #20 from http://khelmart.com/Cricket/zoomer_Image/KK_EW_000017_large.jpg\n",
            "[%] File Downloaded !\n",
            "\n",
            "[%] Downloading Image #21 from https://n2.sdlcdn.com/imgs/b/l/9/Sunley-Pro-Cricket-Bat-SDL106409902-1-2c358.jpg\n",
            "[%] File Downloaded !\n",
            "\n",
            "[%] Downloading Image #22 from https://www.cricketequipmentusa.com/content/images/thumbs/0003909_cricket-bat-english-willow-neon-dxm-404-ttnow-short-handle-by-gunn-moore.jpeg\n",
            "[%] File Downloaded !\n",
            "\n",
            "[%] Downloading Image #23 from https://ethlits.com/media/catalog/product/cache/1/thumbnail/4f9502202b77059316180a23e4857517/s/g/sg_tripple_crown_xtreme_english_willow_cricket_bat_size_sh_ethlits.com_1_.jpg\n",
            "[%] File Downloaded !\n",
            "\n",
            "[%] Downloading Image #24 from http://www.allwhitebackground.com/images/1/Cricket-Bat-1.jpg\n",
            "[%] File Downloaded !\n",
            "\n",
            "[%] Downloading Image #25 from https://www.prodirectcricket.com/ProductImages/Main/214464_Main_Thumb_0595855.jpg\n",
            "[!] Issue getting: https://www.prodirectcricket.com/ProductImages/Main/214464_Main_Thumb_0595855.jpg\n",
            "[!] Error:: HTTP Error 403: Forbidden\n",
            "[%] Downloading Image #25 from https://www.prodirectcricket.com/ProductImages/Main/Main_Thumb_0366776.jpg\n",
            "[!] Issue getting: https://www.prodirectcricket.com/ProductImages/Main/Main_Thumb_0366776.jpg\n",
            "[!] Error:: HTTP Error 403: Forbidden\n",
            "[%] Downloading Image #25 from https://www.prodirectcricket.com/productimages/Main/190583_Main_Thumb_0363315.jpg\n",
            "[!] Issue getting: https://www.prodirectcricket.com/productimages/Main/190583_Main_Thumb_0363315.jpg\n",
            "[!] Error:: HTTP Error 403: Forbidden\n",
            "[%] Downloading Image #25 from https://www.prodirectcricket.com/ProductImages/Main/190315_Main_Thumb_0367094.jpg\n",
            "[!] Issue getting: https://www.prodirectcricket.com/ProductImages/Main/190315_Main_Thumb_0367094.jpg\n",
            "[!] Error:: HTTP Error 403: Forbidden\n",
            "[%] Downloading Image #25 from http://proimpactsports.com/wp-content/uploads/2018/06/cricket-bat-1-1.jpg\n",
            "[Error]Invalid image, not saving http://proimpactsports.com/wp-content/uploads/2018/06/cricket-bat-1-1.jpg\n",
            "\n",
            "[!] Issue getting: http://proimpactsports.com/wp-content/uploads/2018/06/cricket-bat-1-1.jpg\n",
            "[!] Error:: No active exception to reraise\n",
            "[%] Downloading Image #25 from https://edsports.ie/wp-content/uploads/2015/01/kookaburra-surge-800-cricket-bat-1.jpg\n",
            "[%] File Downloaded !\n",
            "\n",
            "\n",
            "\n",
            "[%] Done. Downloaded 25 images.\n",
            "\n",
            "===============================================\n",
            "\n",
            "time: 21.8 s\n"
          ],
          "name": "stdout"
        }
      ]
    },
    {
      "cell_type": "code",
      "metadata": {
        "id": "zoZhWuwdtGOS",
        "outputId": "b49fd6de-c243-4f6d-ba64-4b57fc623372",
        "colab": {
          "base_uri": "https://localhost:8080/",
          "height": 34
        }
      },
      "source": [
        "import os\n",
        "import matplotlib.pyplot as plt\n",
        "import numpy as np\n",
        "from skimage.transform import resize\n",
        "from skimage.io import imread\n",
        "\n",
        "\n",
        "target = []\n",
        "images = [] \n",
        "flat_data = []  \n",
        "\n",
        "DATADIR = '/content/images'\n",
        "CATEGORIES = ['Ferrari 250 GTO','cricket bat','dragon fruit']\n",
        "\n",
        "for category in CATEGORIES:\n",
        "  class_num = CATEGORIES.index(category)\n",
        "  path = os.path.join(DATADIR,category)\n",
        "  for img in os.listdir(path):\n",
        "    img_array = imread(os.path.join(path,img))\n",
        "    img_resized = resize(img_array,(150,150,3))\n",
        "    flat_data.append(img_resized.flatten())\n",
        "    images.append(img_resized)\n",
        "    target.append(class_num)\n",
        "\n",
        "target = np.array(target)\n",
        "images = np.array(images)\n",
        "flat_data = np.array(flat_data)"
      ],
      "execution_count": 9,
      "outputs": [
        {
          "output_type": "stream",
          "text": [
            "time: 51.3 s\n"
          ],
          "name": "stdout"
        }
      ]
    },
    {
      "cell_type": "code",
      "metadata": {
        "id": "HrY8X4La--IZ",
        "outputId": "d4366e08-939d-4744-8d7f-536a198cd238",
        "colab": {
          "base_uri": "https://localhost:8080/",
          "height": 34
        }
      },
      "source": [
        "from sklearn.model_selection import train_test_split\n",
        "x_train,x_test,y_train,y_test = train_test_split(flat_data,target,test_size=0.2,random_state=129)"
      ],
      "execution_count": 24,
      "outputs": [
        {
          "output_type": "stream",
          "text": [
            "time: 20.4 ms\n"
          ],
          "name": "stdout"
        }
      ]
    },
    {
      "cell_type": "code",
      "metadata": {
        "id": "eWsVOzN8AHa2",
        "outputId": "1fce59ae-a66a-4384-b37e-64e554753fe0",
        "colab": {
          "base_uri": "https://localhost:8080/",
          "height": 247
        }
      },
      "source": [
        "from sklearn.model_selection import GridSearchCV\n",
        "from sklearn import svm \n",
        "param_grid = [\n",
        "              {'C':[1,10,100,1000],'kernel':['linear']},\n",
        "              {'C':[1,10,100,1000],'gamma':[0.001,0.001],'kernel':['rbf']},\n",
        "]\n",
        "svc = svm.SVC(probability=True)\n",
        "clf = GridSearchCV(svc,param_grid)\n",
        "clf.fit(x_train,y_train)"
      ],
      "execution_count": 35,
      "outputs": [
        {
          "output_type": "execute_result",
          "data": {
            "text/plain": [
              "GridSearchCV(cv=None, error_score=nan,\n",
              "             estimator=SVC(C=1.0, break_ties=False, cache_size=200,\n",
              "                           class_weight=None, coef0=0.0,\n",
              "                           decision_function_shape='ovr', degree=3,\n",
              "                           gamma='scale', kernel='rbf', max_iter=-1,\n",
              "                           probability=True, random_state=None, shrinking=True,\n",
              "                           tol=0.001, verbose=False),\n",
              "             iid='deprecated', n_jobs=None,\n",
              "             param_grid=[{'C': [1, 10, 100, 1000], 'kernel': ['linear']},\n",
              "                         {'C': [1, 10, 100, 1000], 'gamma': [0.001, 0.001],\n",
              "                          'kernel': ['rbf']}],\n",
              "             pre_dispatch='2*n_jobs', refit=True, return_train_score=False,\n",
              "             scoring=None, verbose=0)"
            ]
          },
          "metadata": {
            "tags": []
          },
          "execution_count": 35
        },
        {
          "output_type": "stream",
          "text": [
            "time: 1min 39s\n"
          ],
          "name": "stdout"
        }
      ]
    },
    {
      "cell_type": "code",
      "metadata": {
        "id": "ZyvbCcrDWRYG",
        "outputId": "4d0dc25b-5269-4566-e235-50ba12cd48e4",
        "colab": {
          "base_uri": "https://localhost:8080/",
          "height": 34
        }
      },
      "source": [
        "import pickle\n",
        "pickle.dump(clf,open('img_model.p','wb'))"
      ],
      "execution_count": 50,
      "outputs": [
        {
          "output_type": "stream",
          "text": [
            "time: 58.6 ms\n"
          ],
          "name": "stdout"
        }
      ]
    },
    {
      "cell_type": "code",
      "metadata": {
        "id": "RFwD7UT0X_Ld",
        "outputId": "74f9a3ac-22ed-4a81-fab2-f1abbaeda425",
        "colab": {
          "base_uri": "https://localhost:8080/",
          "height": 34
        }
      },
      "source": [
        "model = pickle.load(open('img_model.p','rb'))"
      ],
      "execution_count": 51,
      "outputs": [
        {
          "output_type": "stream",
          "text": [
            "time: 17.2 ms\n"
          ],
          "name": "stdout"
        }
      ]
    },
    {
      "cell_type": "code",
      "metadata": {
        "id": "ttYs1wWBX_I0"
      },
      "source": [
        "flat_data = []\n",
        "url = input('enter your URL')\n",
        "img = imread(url)\n",
        "img_resized = resize(img,(150,150,3))\n",
        "flat_data.append(img_resized.flatten())\n",
        "flat_data = np.array(flat_data)\n",
        "print(img.shape)\n",
        "plt.imshow(img_resized)\n",
        "y_out = model.predict(flat_data)\n",
        "y_out = CATEGORIES[y_out[0]]\n",
        "print(f' PREDICTED OUTPUT:{y_out}')"
      ],
      "execution_count": null,
      "outputs": []
    }
  ]
}